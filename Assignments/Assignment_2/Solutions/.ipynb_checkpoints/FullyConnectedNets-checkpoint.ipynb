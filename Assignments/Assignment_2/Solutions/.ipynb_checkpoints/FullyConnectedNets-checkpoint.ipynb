{
 "cells": [
  {
   "cell_type": "markdown",
   "metadata": {},
   "source": [
    "# Fully-Connected Neural Nets\n",
    "In the previous homework you implemented a fully-connected two-layer neural network on CIFAR-10. The implementation was simple but not very modular since the loss and gradient were computed in a single monolithic function. This is manageable for a simple two-layer network, but would become impractical as we move to bigger models. Ideally we want to build networks using a more modular design so that we can implement different layer types in isolation and then snap them together into models with different architectures.\n",
    "\n",
    "In this exercise we will implement fully-connected networks using a more modular approach. For each layer we will implement a `forward` and a `backward` function. The `forward` function will receive inputs, weights, and other parameters and will return both an output and a `cache` object storing data needed for the backward pass, like this:\n",
    "\n",
    "```python\n",
    "def layer_forward(x, w):\n",
    "  \"\"\" Receive inputs x and weights w \"\"\"\n",
    "  # Do some computations ...\n",
    "  z = # ... some intermediate value\n",
    "  # Do some more computations ...\n",
    "  out = # the output\n",
    "   \n",
    "  cache = (x, w, z, out) # Values we need to compute gradients\n",
    "   \n",
    "  return out, cache\n",
    "```\n",
    "\n",
    "The backward pass will receive upstream derivatives and the `cache` object, and will return gradients with respect to the inputs and weights, like this:\n",
    "\n",
    "```python\n",
    "def layer_backward(dout, cache):\n",
    "  \"\"\"\n",
    "  Receive dout (derivative of loss with respect to outputs) and cache,\n",
    "  and compute derivative with respect to inputs.\n",
    "  \"\"\"\n",
    "  # Unpack cache values\n",
    "  x, w, z, out = cache\n",
    "  \n",
    "  # Use values in cache to compute derivatives\n",
    "  dx = # Derivative of loss with respect to x\n",
    "  dw = # Derivative of loss with respect to w\n",
    "  \n",
    "  return dx, dw\n",
    "```\n",
    "\n",
    "After implementing a bunch of layers this way, we will be able to easily combine them to build classifiers with different architectures.\n",
    "\n",
    "In addition to implementing fully-connected networks of arbitrary depth, we will also explore different update rules for optimization, and introduce Dropout as a regularizer and Batch/Layer Normalization as a tool to more efficiently optimize deep networks.\n",
    "  "
   ]
  },
  {
   "cell_type": "code",
   "execution_count": 1,
   "metadata": {},
   "outputs": [
    {
     "name": "stdout",
     "output_type": "stream",
     "text": [
      "run the following from the cs231n directory and try again:\n",
      "python setup.py build_ext --inplace\n",
      "You may also need to restart your iPython kernel\n"
     ]
    }
   ],
   "source": [
    "# As usual, a bit of setup\n",
    "from __future__ import print_function\n",
    "import time\n",
    "import numpy as np\n",
    "import matplotlib.pyplot as plt\n",
    "from cs231n.classifiers.fc_net import *\n",
    "from cs231n.data_utils import get_CIFAR10_data\n",
    "from cs231n.gradient_check import eval_numerical_gradient, eval_numerical_gradient_array\n",
    "from cs231n.solver import Solver\n",
    "\n",
    "%matplotlib inline\n",
    "plt.rcParams['figure.figsize'] = (10.0, 8.0) # set default size of plots\n",
    "plt.rcParams['image.interpolation'] = 'nearest'\n",
    "plt.rcParams['image.cmap'] = 'gray'\n",
    "\n",
    "# for auto-reloading external modules\n",
    "# see http://stackoverflow.com/questions/1907993/autoreload-of-modules-in-ipython\n",
    "%load_ext autoreload\n",
    "%autoreload 2\n",
    "\n",
    "def rel_error(x, y):\n",
    "  \"\"\" returns relative error \"\"\"\n",
    "  return np.max(np.abs(x - y) / (np.maximum(1e-8, np.abs(x) + np.abs(y))))"
   ]
  },
  {
   "cell_type": "code",
   "execution_count": 2,
   "metadata": {},
   "outputs": [
    {
     "name": "stdout",
     "output_type": "stream",
     "text": [
      "('X_train: ', (49000, 3, 32, 32))\n",
      "('y_train: ', (49000,))\n",
      "('X_val: ', (1000, 3, 32, 32))\n",
      "('y_val: ', (1000,))\n",
      "('X_test: ', (1000, 3, 32, 32))\n",
      "('y_test: ', (1000,))\n"
     ]
    }
   ],
   "source": [
    "# Load the (preprocessed) CIFAR10 data.\n",
    "\n",
    "data = get_CIFAR10_data()\n",
    "for k, v in list(data.items()):\n",
    "  print(('%s: ' % k, v.shape))"
   ]
  },
  {
   "cell_type": "markdown",
   "metadata": {},
   "source": [
    "# Affine layer: foward\n",
    "Open the file `cs231n/layers.py` and implement the `affine_forward` function.\n",
    "\n",
    "Once you are done you can test your implementaion by running the following:"
   ]
  },
  {
   "cell_type": "code",
   "execution_count": 3,
   "metadata": {},
   "outputs": [
    {
     "name": "stdout",
     "output_type": "stream",
     "text": [
      "Testing affine_forward function:\n",
      "difference:  9.769847728806635e-10\n"
     ]
    }
   ],
   "source": [
    "# Test the affine_forward function\n",
    "\n",
    "num_inputs = 2\n",
    "input_shape = (4, 5, 6)\n",
    "output_dim = 3\n",
    "\n",
    "input_size = num_inputs * np.prod(input_shape)\n",
    "weight_size = output_dim * np.prod(input_shape)\n",
    "\n",
    "x = np.linspace(-0.1, 0.5, num=input_size).reshape(num_inputs, *input_shape)\n",
    "w = np.linspace(-0.2, 0.3, num=weight_size).reshape(np.prod(input_shape), output_dim)\n",
    "b = np.linspace(-0.3, 0.1, num=output_dim)\n",
    "\n",
    "out, _ = affine_forward(x, w, b)\n",
    "correct_out = np.array([[ 1.49834967,  1.70660132,  1.91485297],\n",
    "                        [ 3.25553199,  3.5141327,   3.77273342]])\n",
    "\n",
    "# Compare your output with ours. The error should be around e-9 or less.\n",
    "print('Testing affine_forward function:')\n",
    "print('difference: ', rel_error(out, correct_out))"
   ]
  },
  {
   "cell_type": "markdown",
   "metadata": {},
   "source": [
    "# Affine layer: backward\n",
    "Now implement the `affine_backward` function and test your implementation using numeric gradient checking."
   ]
  },
  {
   "cell_type": "code",
   "execution_count": 4,
   "metadata": {},
   "outputs": [
    {
     "name": "stdout",
     "output_type": "stream",
     "text": [
      "Testing affine_backward function:\n",
      "dx error:  5.399100368651805e-11\n",
      "dw error:  9.904211865398145e-11\n",
      "db error:  2.4122867568119087e-11\n"
     ]
    }
   ],
   "source": [
    "# Test the affine_backward function\n",
    "np.random.seed(231)\n",
    "x = np.random.randn(10, 2, 3)\n",
    "w = np.random.randn(6, 5)\n",
    "b = np.random.randn(5)\n",
    "dout = np.random.randn(10, 5)\n",
    "\n",
    "dx_num = eval_numerical_gradient_array(lambda x: affine_forward(x, w, b)[0], x, dout)\n",
    "dw_num = eval_numerical_gradient_array(lambda w: affine_forward(x, w, b)[0], w, dout)\n",
    "db_num = eval_numerical_gradient_array(lambda b: affine_forward(x, w, b)[0], b, dout)\n",
    "\n",
    "_, cache = affine_forward(x, w, b)\n",
    "dx, dw, db = affine_backward(dout, cache)\n",
    "\n",
    "# The error should be around e-10 or less\n",
    "print('Testing affine_backward function:')\n",
    "print('dx error: ', rel_error(dx_num, dx))\n",
    "print('dw error: ', rel_error(dw_num, dw))\n",
    "print('db error: ', rel_error(db_num, db))"
   ]
  },
  {
   "cell_type": "markdown",
   "metadata": {},
   "source": [
    "# ReLU activation: forward\n",
    "Implement the forward pass for the ReLU activation function in the `relu_forward` function and test your implementation using the following:"
   ]
  },
  {
   "cell_type": "code",
   "execution_count": 5,
   "metadata": {},
   "outputs": [
    {
     "name": "stdout",
     "output_type": "stream",
     "text": [
      "Testing relu_forward function:\n",
      "difference:  4.999999798022158e-08\n"
     ]
    }
   ],
   "source": [
    "# Test the relu_forward function\n",
    "\n",
    "x = np.linspace(-0.5, 0.5, num=12).reshape(3, 4)\n",
    "\n",
    "out, _ = relu_forward(x)\n",
    "correct_out = np.array([[ 0.,          0.,          0.,          0.,        ],\n",
    "                        [ 0.,          0.,          0.04545455,  0.13636364,],\n",
    "                        [ 0.22727273,  0.31818182,  0.40909091,  0.5,       ]])\n",
    "\n",
    "# Compare your output with ours. The error should be on the order of e-8\n",
    "print('Testing relu_forward function:')\n",
    "print('difference: ', rel_error(out, correct_out))"
   ]
  },
  {
   "cell_type": "markdown",
   "metadata": {},
   "source": [
    "# ReLU activation: backward\n",
    "Now implement the backward pass for the ReLU activation function in the `relu_backward` function and test your implementation using numeric gradient checking:"
   ]
  },
  {
   "cell_type": "code",
   "execution_count": 6,
   "metadata": {},
   "outputs": [
    {
     "name": "stdout",
     "output_type": "stream",
     "text": [
      "Testing relu_backward function:\n",
      "dx error:  3.2756349136310288e-12\n"
     ]
    }
   ],
   "source": [
    "np.random.seed(231)\n",
    "x = np.random.randn(10, 10)\n",
    "dout = np.random.randn(*x.shape)\n",
    "\n",
    "dx_num = eval_numerical_gradient_array(lambda x: relu_forward(x)[0], x, dout)\n",
    "\n",
    "_, cache = relu_forward(x)\n",
    "dx = relu_backward(dout, cache)\n",
    "\n",
    "# The error should be on the order of e-12\n",
    "print('Testing relu_backward function:')\n",
    "print('dx error: ', rel_error(dx_num, dx))"
   ]
  },
  {
   "cell_type": "markdown",
   "metadata": {},
   "source": [
    "## Inline Question 1: \n",
    "\n",
    "We've only asked you to implement ReLU, but there are a number of different activation functions that one could use in neural networks, each with its pros and cons. In particular, an issue commonly seen with activation functions is getting zero (or close to zero) gradient flow during backpropagation. Which of the following activation functions have this problem? If you consider these functions in the one dimensional case, what types of input would lead to this behaviour?\n",
    "1. Sigmoid\n",
    "2. ReLU\n",
    "3. Leaky ReLU"
   ]
  },
  {
   "cell_type": "markdown",
   "metadata": {},
   "source": [
    "## Answer:\n",
    "[FILL THIS IN]\n",
    "1. Sigmoid - Yes when inputs are greater than 4 or less than -4\n",
    "2. ReLU - Yes when inputs less than 0\n",
    "3. Leaky ReLU - No\n"
   ]
  },
  {
   "cell_type": "markdown",
   "metadata": {},
   "source": [
    "# \"Sandwich\" layers\n",
    "There are some common patterns of layers that are frequently used in neural nets. For example, affine layers are frequently followed by a ReLU nonlinearity. To make these common patterns easy, we define several convenience layers in the file `cs231n/layer_utils.py`.\n",
    "\n",
    "For now take a look at the `affine_relu_forward` and `affine_relu_backward` functions, and run the following to numerically gradient check the backward pass:"
   ]
  },
  {
   "cell_type": "code",
   "execution_count": 7,
   "metadata": {},
   "outputs": [
    {
     "name": "stdout",
     "output_type": "stream",
     "text": [
      "Testing affine_relu_forward and affine_relu_backward:\n",
      "dx error:  6.750562121603446e-11\n",
      "dw error:  8.162015570444288e-11\n",
      "db error:  7.826724021458994e-12\n"
     ]
    }
   ],
   "source": [
    "from cs231n.layer_utils import affine_relu_forward, affine_relu_backward\n",
    "np.random.seed(231)\n",
    "x = np.random.randn(2, 3, 4)\n",
    "w = np.random.randn(12, 10)\n",
    "b = np.random.randn(10)\n",
    "dout = np.random.randn(2, 10)\n",
    "\n",
    "out, cache = affine_relu_forward(x, w, b)\n",
    "dx, dw, db = affine_relu_backward(dout, cache)\n",
    "\n",
    "dx_num = eval_numerical_gradient_array(lambda x: affine_relu_forward(x, w, b)[0], x, dout)\n",
    "dw_num = eval_numerical_gradient_array(lambda w: affine_relu_forward(x, w, b)[0], w, dout)\n",
    "db_num = eval_numerical_gradient_array(lambda b: affine_relu_forward(x, w, b)[0], b, dout)\n",
    "\n",
    "# Relative error should be around e-10 or less\n",
    "print('Testing affine_relu_forward and affine_relu_backward:')\n",
    "print('dx error: ', rel_error(dx_num, dx))\n",
    "print('dw error: ', rel_error(dw_num, dw))\n",
    "print('db error: ', rel_error(db_num, db))"
   ]
  },
  {
   "cell_type": "markdown",
   "metadata": {},
   "source": [
    "# Loss layers: Softmax and SVM\n",
    "You implemented these loss functions in the last assignment, so we'll give them to you for free here. You should still make sure you understand how they work by looking at the implementations in `cs231n/layers.py`.\n",
    "\n",
    "You can make sure that the implementations are correct by running the following:"
   ]
  },
  {
   "cell_type": "code",
   "execution_count": 8,
   "metadata": {},
   "outputs": [
    {
     "name": "stdout",
     "output_type": "stream",
     "text": [
      "Testing svm_loss:\n",
      "loss:  8.999602749096233\n",
      "dx error:  1.4021566006651672e-09\n",
      "\n",
      "Testing softmax_loss:\n",
      "loss:  2.302545844500738\n",
      "dx error:  9.384673161989355e-09\n"
     ]
    }
   ],
   "source": [
    "np.random.seed(231)\n",
    "num_classes, num_inputs = 10, 50\n",
    "x = 0.001 * np.random.randn(num_inputs, num_classes)\n",
    "y = np.random.randint(num_classes, size=num_inputs)\n",
    "\n",
    "dx_num = eval_numerical_gradient(lambda x: svm_loss(x, y)[0], x, verbose=False)\n",
    "loss, dx = svm_loss(x, y)\n",
    "\n",
    "# Test svm_loss function. Loss should be around 9 and dx error should be around the order of e-9\n",
    "print('Testing svm_loss:')\n",
    "print('loss: ', loss)\n",
    "print('dx error: ', rel_error(dx_num, dx))\n",
    "\n",
    "dx_num = eval_numerical_gradient(lambda x: softmax_loss(x, y)[0], x, verbose=False)\n",
    "loss, dx = softmax_loss(x, y)\n",
    "\n",
    "# Test softmax_loss function. Loss should be close to 2.3 and dx error should be around e-8\n",
    "print('\\nTesting softmax_loss:')\n",
    "print('loss: ', loss)\n",
    "print('dx error: ', rel_error(dx_num, dx))"
   ]
  },
  {
   "cell_type": "markdown",
   "metadata": {},
   "source": [
    "# Two-layer network\n",
    "In the previous assignment you implemented a two-layer neural network in a single monolithic class. Now that you have implemented modular versions of the necessary layers, you will reimplement the two layer network using these modular implementations.\n",
    "\n",
    "Open the file `cs231n/classifiers/fc_net.py` and complete the implementation of the `TwoLayerNet` class. This class will serve as a model for the other networks you will implement in this assignment, so read through it to make sure you understand the API. You can run the cell below to test your implementation."
   ]
  },
  {
   "cell_type": "code",
   "execution_count": 9,
   "metadata": {},
   "outputs": [
    {
     "name": "stdout",
     "output_type": "stream",
     "text": [
      "Testing initialization ... \n",
      "Testing test-time forward pass ... \n",
      "Testing training loss (no regularization)\n",
      "Running numeric gradient check with reg =  0.0\n",
      "W1 relative error: 1.22e-08\n",
      "W2 relative error: 3.48e-10\n",
      "b1 relative error: 6.55e-09\n",
      "b2 relative error: 4.33e-10\n",
      "Running numeric gradient check with reg =  0.7\n",
      "W1 relative error: 8.18e-07\n",
      "W2 relative error: 2.85e-08\n",
      "b1 relative error: 1.09e-09\n",
      "b2 relative error: 7.76e-10\n"
     ]
    }
   ],
   "source": [
    "np.random.seed(231)\n",
    "N, D, H, C = 3, 5, 50, 7\n",
    "X = np.random.randn(N, D)\n",
    "y = np.random.randint(C, size=N)\n",
    "\n",
    "std = 1e-3\n",
    "model = TwoLayerNet(input_dim=D, hidden_dim=H, num_classes=C, weight_scale=std)\n",
    "\n",
    "print('Testing initialization ... ')\n",
    "W1_std = abs(model.params['W1'].std() - std)\n",
    "b1 = model.params['b1']\n",
    "W2_std = abs(model.params['W2'].std() - std)\n",
    "b2 = model.params['b2']\n",
    "assert W1_std < std / 10, 'First layer weights do not seem right'\n",
    "assert np.all(b1 == 0), 'First layer biases do not seem right'\n",
    "assert W2_std < std / 10, 'Second layer weights do not seem right'\n",
    "assert np.all(b2 == 0), 'Second layer biases do not seem right'\n",
    "\n",
    "print('Testing test-time forward pass ... ')\n",
    "model.params['W1'] = np.linspace(-0.7, 0.3, num=D*H).reshape(D, H)\n",
    "model.params['b1'] = np.linspace(-0.1, 0.9, num=H)\n",
    "model.params['W2'] = np.linspace(-0.3, 0.4, num=H*C).reshape(H, C)\n",
    "model.params['b2'] = np.linspace(-0.9, 0.1, num=C)\n",
    "X = np.linspace(-5.5, 4.5, num=N*D).reshape(D, N).T\n",
    "scores = model.loss(X)\n",
    "correct_scores = np.asarray(\n",
    "  [[11.53165108,  12.2917344,   13.05181771,  13.81190102,  14.57198434, 15.33206765,  16.09215096],\n",
    "   [12.05769098,  12.74614105,  13.43459113,  14.1230412,   14.81149128, 15.49994135,  16.18839143],\n",
    "   [12.58373087,  13.20054771,  13.81736455,  14.43418138,  15.05099822, 15.66781506,  16.2846319 ]])\n",
    "scores_diff = np.abs(scores - correct_scores).sum()\n",
    "assert scores_diff < 1e-6, 'Problem with test-time forward pass'\n",
    "\n",
    "print('Testing training loss (no regularization)')\n",
    "y = np.asarray([0, 5, 1])\n",
    "loss, grads = model.loss(X, y)\n",
    "correct_loss = 3.4702243556\n",
    "assert abs(loss - correct_loss) < 1e-10, 'Problem with training-time loss'\n",
    "\n",
    "model.reg = 1.0\n",
    "loss, grads = model.loss(X, y)\n",
    "correct_loss = 26.5948426952\n",
    "assert abs(loss - correct_loss) < 1e-10, 'Problem with regularization loss'\n",
    "\n",
    "# Errors should be around e-7 or less\n",
    "for reg in [0.0, 0.7]:\n",
    "  print('Running numeric gradient check with reg = ', reg)\n",
    "  model.reg = reg\n",
    "  loss, grads = model.loss(X, y)\n",
    "\n",
    "  for name in sorted(grads):\n",
    "    f = lambda _: model.loss(X, y)[0]\n",
    "    grad_num = eval_numerical_gradient(f, model.params[name], verbose=False)\n",
    "    print('%s relative error: %.2e' % (name, rel_error(grad_num, grads[name])))"
   ]
  },
  {
   "cell_type": "markdown",
   "metadata": {},
   "source": [
    "# Solver\n",
    "In the previous assignment, the logic for training models was coupled to the models themselves. Following a more modular design, for this assignment we have split the logic for training models into a separate class.\n",
    "\n",
    "Open the file `cs231n/solver.py` and read through it to familiarize yourself with the API. After doing so, use a `Solver` instance to train a `TwoLayerNet` that achieves at least `50%` accuracy on the validation set."
   ]
  },
  {
   "cell_type": "code",
   "execution_count": 10,
   "metadata": {},
   "outputs": [
    {
     "name": "stdout",
     "output_type": "stream",
     "text": [
      "(Iteration 1 / 49000) loss: 3.368645\n",
      "(Epoch 0 / 100) train acc: 0.099000; val_acc: 0.094000\n",
      "(Iteration 201 / 49000) loss: 3.211503\n",
      "(Iteration 401 / 49000) loss: 3.076946\n",
      "(Epoch 1 / 100) train acc: 0.138000; val_acc: 0.120000\n",
      "(Iteration 601 / 49000) loss: 2.965322\n",
      "(Iteration 801 / 49000) loss: 2.870696\n",
      "(Epoch 2 / 100) train acc: 0.128000; val_acc: 0.136000\n",
      "(Iteration 1001 / 49000) loss: 2.792056\n",
      "(Iteration 1201 / 49000) loss: 2.725002\n",
      "(Iteration 1401 / 49000) loss: 2.668326\n",
      "(Epoch 3 / 100) train acc: 0.152000; val_acc: 0.145000\n",
      "(Iteration 1601 / 49000) loss: 2.619918\n",
      "(Iteration 1801 / 49000) loss: 2.579798\n",
      "(Epoch 4 / 100) train acc: 0.140000; val_acc: 0.143000\n",
      "(Iteration 2001 / 49000) loss: 2.545317\n",
      "(Iteration 2201 / 49000) loss: 2.514900\n",
      "(Iteration 2401 / 49000) loss: 2.487788\n",
      "(Epoch 5 / 100) train acc: 0.171000; val_acc: 0.143000\n",
      "(Iteration 2601 / 49000) loss: 2.466066\n",
      "(Iteration 2801 / 49000) loss: 2.447981\n",
      "(Epoch 6 / 100) train acc: 0.160000; val_acc: 0.149000\n",
      "(Iteration 3001 / 49000) loss: 2.430544\n",
      "(Iteration 3201 / 49000) loss: 2.417623\n",
      "(Iteration 3401 / 49000) loss: 2.403185\n",
      "(Epoch 7 / 100) train acc: 0.178000; val_acc: 0.147000\n",
      "(Iteration 3601 / 49000) loss: 2.393795\n",
      "(Iteration 3801 / 49000) loss: 2.384219\n",
      "(Epoch 8 / 100) train acc: 0.163000; val_acc: 0.145000\n",
      "(Iteration 4001 / 49000) loss: 2.374308\n",
      "(Iteration 4201 / 49000) loss: 2.366099\n",
      "(Iteration 4401 / 49000) loss: 2.361493\n",
      "(Epoch 9 / 100) train acc: 0.173000; val_acc: 0.141000\n",
      "(Iteration 4601 / 49000) loss: 2.353657\n",
      "(Iteration 4801 / 49000) loss: 2.349755\n",
      "(Epoch 10 / 100) train acc: 0.182000; val_acc: 0.140000\n",
      "(Iteration 5001 / 49000) loss: 2.345991\n",
      "(Iteration 5201 / 49000) loss: 2.343290\n",
      "(Epoch 11 / 100) train acc: 0.169000; val_acc: 0.135000\n",
      "(Iteration 5401 / 49000) loss: 2.336866\n",
      "(Iteration 5601 / 49000) loss: 2.336182\n",
      "(Iteration 5801 / 49000) loss: 2.332938\n",
      "(Epoch 12 / 100) train acc: 0.149000; val_acc: 0.135000\n",
      "(Iteration 6001 / 49000) loss: 2.328405\n",
      "(Iteration 6201 / 49000) loss: 2.328097\n",
      "(Epoch 13 / 100) train acc: 0.194000; val_acc: 0.139000\n",
      "(Iteration 6401 / 49000) loss: 2.325173\n",
      "(Iteration 6601 / 49000) loss: 2.322709\n",
      "(Iteration 6801 / 49000) loss: 2.322532\n",
      "(Epoch 14 / 100) train acc: 0.145000; val_acc: 0.138000\n",
      "(Iteration 7001 / 49000) loss: 2.320938\n",
      "(Iteration 7201 / 49000) loss: 2.320371\n",
      "(Epoch 15 / 100) train acc: 0.172000; val_acc: 0.138000\n",
      "(Iteration 7401 / 49000) loss: 2.317244\n",
      "(Iteration 7601 / 49000) loss: 2.316472\n",
      "(Iteration 7801 / 49000) loss: 2.314859\n",
      "(Epoch 16 / 100) train acc: 0.168000; val_acc: 0.143000\n",
      "(Iteration 8001 / 49000) loss: 2.315705\n",
      "(Iteration 8201 / 49000) loss: 2.312576\n",
      "(Epoch 17 / 100) train acc: 0.165000; val_acc: 0.145000\n",
      "(Iteration 8401 / 49000) loss: 2.312792\n",
      "(Iteration 8601 / 49000) loss: 2.312501\n",
      "(Iteration 8801 / 49000) loss: 2.310362\n",
      "(Epoch 18 / 100) train acc: 0.190000; val_acc: 0.145000\n",
      "(Iteration 9001 / 49000) loss: 2.311679\n",
      "(Iteration 9201 / 49000) loss: 2.308790\n",
      "(Epoch 19 / 100) train acc: 0.158000; val_acc: 0.143000\n",
      "(Iteration 9401 / 49000) loss: 2.312616\n",
      "(Iteration 9601 / 49000) loss: 2.306132\n",
      "(Epoch 20 / 100) train acc: 0.163000; val_acc: 0.146000\n",
      "(Iteration 9801 / 49000) loss: 2.307214\n",
      "(Iteration 10001 / 49000) loss: 2.307968\n",
      "(Iteration 10201 / 49000) loss: 2.306752\n",
      "(Epoch 21 / 100) train acc: 0.149000; val_acc: 0.149000\n",
      "(Iteration 10401 / 49000) loss: 2.305197\n",
      "(Iteration 10601 / 49000) loss: 2.308691\n",
      "(Epoch 22 / 100) train acc: 0.159000; val_acc: 0.146000\n",
      "(Iteration 10801 / 49000) loss: 2.306320\n",
      "(Iteration 11001 / 49000) loss: 2.305940\n",
      "(Iteration 11201 / 49000) loss: 2.306953\n",
      "(Epoch 23 / 100) train acc: 0.152000; val_acc: 0.149000\n",
      "(Iteration 11401 / 49000) loss: 2.304121\n",
      "(Iteration 11601 / 49000) loss: 2.307324\n",
      "(Epoch 24 / 100) train acc: 0.132000; val_acc: 0.149000\n",
      "(Iteration 11801 / 49000) loss: 2.308000\n",
      "(Iteration 12001 / 49000) loss: 2.305036\n",
      "(Iteration 12201 / 49000) loss: 2.303817\n",
      "(Epoch 25 / 100) train acc: 0.163000; val_acc: 0.148000\n",
      "(Iteration 12401 / 49000) loss: 2.306159\n",
      "(Iteration 12601 / 49000) loss: 2.305113\n",
      "(Epoch 26 / 100) train acc: 0.149000; val_acc: 0.146000\n",
      "(Iteration 12801 / 49000) loss: 2.307892\n",
      "(Iteration 13001 / 49000) loss: 2.306471\n",
      "(Iteration 13201 / 49000) loss: 2.304773\n",
      "(Epoch 27 / 100) train acc: 0.149000; val_acc: 0.147000\n",
      "(Iteration 13401 / 49000) loss: 2.307349\n",
      "(Iteration 13601 / 49000) loss: 2.302101\n",
      "(Epoch 28 / 100) train acc: 0.128000; val_acc: 0.147000\n",
      "(Iteration 13801 / 49000) loss: 2.302395\n",
      "(Iteration 14001 / 49000) loss: 2.305269\n",
      "(Iteration 14201 / 49000) loss: 2.301770\n",
      "(Epoch 29 / 100) train acc: 0.142000; val_acc: 0.146000\n",
      "(Iteration 14401 / 49000) loss: 2.305030\n",
      "(Iteration 14601 / 49000) loss: 2.300350\n",
      "(Epoch 30 / 100) train acc: 0.153000; val_acc: 0.147000\n",
      "(Iteration 14801 / 49000) loss: 2.305054\n",
      "(Iteration 15001 / 49000) loss: 2.304433\n",
      "(Epoch 31 / 100) train acc: 0.166000; val_acc: 0.150000\n",
      "(Iteration 15201 / 49000) loss: 2.302342\n",
      "(Iteration 15401 / 49000) loss: 2.302390\n",
      "(Iteration 15601 / 49000) loss: 2.298660\n",
      "(Epoch 32 / 100) train acc: 0.173000; val_acc: 0.154000\n",
      "(Iteration 15801 / 49000) loss: 2.299658\n",
      "(Iteration 16001 / 49000) loss: 2.300384\n",
      "(Epoch 33 / 100) train acc: 0.149000; val_acc: 0.156000\n",
      "(Iteration 16201 / 49000) loss: 2.303618\n",
      "(Iteration 16401 / 49000) loss: 2.302993\n",
      "(Iteration 16601 / 49000) loss: 2.306265\n",
      "(Epoch 34 / 100) train acc: 0.159000; val_acc: 0.156000\n",
      "(Iteration 16801 / 49000) loss: 2.300931\n",
      "(Iteration 17001 / 49000) loss: 2.302028\n",
      "(Epoch 35 / 100) train acc: 0.131000; val_acc: 0.158000\n",
      "(Iteration 17201 / 49000) loss: 2.307277\n",
      "(Iteration 17401 / 49000) loss: 2.303957\n",
      "(Iteration 17601 / 49000) loss: 2.299183\n",
      "(Epoch 36 / 100) train acc: 0.156000; val_acc: 0.160000\n",
      "(Iteration 17801 / 49000) loss: 2.302718\n",
      "(Iteration 18001 / 49000) loss: 2.298066\n",
      "(Epoch 37 / 100) train acc: 0.139000; val_acc: 0.160000\n",
      "(Iteration 18201 / 49000) loss: 2.302481\n",
      "(Iteration 18401 / 49000) loss: 2.300281\n",
      "(Iteration 18601 / 49000) loss: 2.305075\n",
      "(Epoch 38 / 100) train acc: 0.162000; val_acc: 0.161000\n",
      "(Iteration 18801 / 49000) loss: 2.293306\n",
      "(Iteration 19001 / 49000) loss: 2.297128\n",
      "(Epoch 39 / 100) train acc: 0.160000; val_acc: 0.159000\n",
      "(Iteration 19201 / 49000) loss: 2.306614\n",
      "(Iteration 19401 / 49000) loss: 2.302301\n",
      "(Epoch 40 / 100) train acc: 0.143000; val_acc: 0.163000\n",
      "(Iteration 19601 / 49000) loss: 2.301248\n",
      "(Iteration 19801 / 49000) loss: 2.300728\n",
      "(Iteration 20001 / 49000) loss: 2.302146\n",
      "(Epoch 41 / 100) train acc: 0.179000; val_acc: 0.164000\n",
      "(Iteration 20201 / 49000) loss: 2.301445\n",
      "(Iteration 20401 / 49000) loss: 2.302950\n",
      "(Epoch 42 / 100) train acc: 0.161000; val_acc: 0.166000\n",
      "(Iteration 20601 / 49000) loss: 2.304235\n",
      "(Iteration 20801 / 49000) loss: 2.300668\n",
      "(Iteration 21001 / 49000) loss: 2.303557\n",
      "(Epoch 43 / 100) train acc: 0.149000; val_acc: 0.167000\n",
      "(Iteration 21201 / 49000) loss: 2.304699\n",
      "(Iteration 21401 / 49000) loss: 2.301021\n",
      "(Epoch 44 / 100) train acc: 0.155000; val_acc: 0.169000\n",
      "(Iteration 21601 / 49000) loss: 2.305328\n",
      "(Iteration 21801 / 49000) loss: 2.305692\n",
      "(Iteration 22001 / 49000) loss: 2.296559\n",
      "(Epoch 45 / 100) train acc: 0.143000; val_acc: 0.169000\n",
      "(Iteration 22201 / 49000) loss: 2.299231\n",
      "(Iteration 22401 / 49000) loss: 2.303701\n",
      "(Epoch 46 / 100) train acc: 0.203000; val_acc: 0.169000\n",
      "(Iteration 22601 / 49000) loss: 2.304844\n",
      "(Iteration 22801 / 49000) loss: 2.303998\n",
      "(Iteration 23001 / 49000) loss: 2.297698\n",
      "(Epoch 47 / 100) train acc: 0.147000; val_acc: 0.170000\n",
      "(Iteration 23201 / 49000) loss: 2.298843\n",
      "(Iteration 23401 / 49000) loss: 2.303131\n",
      "(Epoch 48 / 100) train acc: 0.165000; val_acc: 0.168000\n",
      "(Iteration 23601 / 49000) loss: 2.305391\n",
      "(Iteration 23801 / 49000) loss: 2.296783\n",
      "(Iteration 24001 / 49000) loss: 2.301544\n",
      "(Epoch 49 / 100) train acc: 0.198000; val_acc: 0.170000\n",
      "(Iteration 24201 / 49000) loss: 2.304876\n",
      "(Iteration 24401 / 49000) loss: 2.303053\n",
      "(Epoch 50 / 100) train acc: 0.169000; val_acc: 0.171000\n",
      "(Iteration 24601 / 49000) loss: 2.299032\n",
      "(Iteration 24801 / 49000) loss: 2.300065\n",
      "(Epoch 51 / 100) train acc: 0.191000; val_acc: 0.171000\n",
      "(Iteration 25001 / 49000) loss: 2.301834\n",
      "(Iteration 25201 / 49000) loss: 2.299159\n",
      "(Iteration 25401 / 49000) loss: 2.301901\n",
      "(Epoch 52 / 100) train acc: 0.185000; val_acc: 0.173000\n",
      "(Iteration 25601 / 49000) loss: 2.306179\n",
      "(Iteration 25801 / 49000) loss: 2.304263\n"
     ]
    },
    {
     "name": "stdout",
     "output_type": "stream",
     "text": [
      "(Epoch 53 / 100) train acc: 0.181000; val_acc: 0.172000\n",
      "(Iteration 26001 / 49000) loss: 2.299514\n",
      "(Iteration 26201 / 49000) loss: 2.299684\n",
      "(Iteration 26401 / 49000) loss: 2.305366\n",
      "(Epoch 54 / 100) train acc: 0.185000; val_acc: 0.169000\n",
      "(Iteration 26601 / 49000) loss: 2.293128\n",
      "(Iteration 26801 / 49000) loss: 2.300718\n",
      "(Epoch 55 / 100) train acc: 0.177000; val_acc: 0.172000\n",
      "(Iteration 27001 / 49000) loss: 2.302189\n",
      "(Iteration 27201 / 49000) loss: 2.301658\n",
      "(Iteration 27401 / 49000) loss: 2.302034\n",
      "(Epoch 56 / 100) train acc: 0.157000; val_acc: 0.172000\n",
      "(Iteration 27601 / 49000) loss: 2.300652\n",
      "(Iteration 27801 / 49000) loss: 2.306526\n",
      "(Epoch 57 / 100) train acc: 0.177000; val_acc: 0.170000\n",
      "(Iteration 28001 / 49000) loss: 2.295994\n",
      "(Iteration 28201 / 49000) loss: 2.304312\n",
      "(Iteration 28401 / 49000) loss: 2.301509\n",
      "(Epoch 58 / 100) train acc: 0.185000; val_acc: 0.170000\n",
      "(Iteration 28601 / 49000) loss: 2.301214\n",
      "(Iteration 28801 / 49000) loss: 2.300188\n",
      "(Epoch 59 / 100) train acc: 0.155000; val_acc: 0.170000\n",
      "(Iteration 29001 / 49000) loss: 2.301727\n",
      "(Iteration 29201 / 49000) loss: 2.299849\n",
      "(Epoch 60 / 100) train acc: 0.196000; val_acc: 0.172000\n",
      "(Iteration 29401 / 49000) loss: 2.302192\n",
      "(Iteration 29601 / 49000) loss: 2.299538\n",
      "(Iteration 29801 / 49000) loss: 2.291562\n",
      "(Epoch 61 / 100) train acc: 0.183000; val_acc: 0.172000\n",
      "(Iteration 30001 / 49000) loss: 2.297235\n",
      "(Iteration 30201 / 49000) loss: 2.307517\n",
      "(Epoch 62 / 100) train acc: 0.151000; val_acc: 0.172000\n",
      "(Iteration 30401 / 49000) loss: 2.304995\n",
      "(Iteration 30601 / 49000) loss: 2.296929\n",
      "(Iteration 30801 / 49000) loss: 2.299808\n",
      "(Epoch 63 / 100) train acc: 0.190000; val_acc: 0.170000\n",
      "(Iteration 31001 / 49000) loss: 2.300145\n",
      "(Iteration 31201 / 49000) loss: 2.292149\n",
      "(Epoch 64 / 100) train acc: 0.165000; val_acc: 0.169000\n",
      "(Iteration 31401 / 49000) loss: 2.295417\n",
      "(Iteration 31601 / 49000) loss: 2.300846\n",
      "(Iteration 31801 / 49000) loss: 2.303300\n",
      "(Epoch 65 / 100) train acc: 0.168000; val_acc: 0.170000\n",
      "(Iteration 32001 / 49000) loss: 2.300557\n",
      "(Iteration 32201 / 49000) loss: 2.302830\n",
      "(Epoch 66 / 100) train acc: 0.188000; val_acc: 0.171000\n",
      "(Iteration 32401 / 49000) loss: 2.299092\n",
      "(Iteration 32601 / 49000) loss: 2.298595\n",
      "(Iteration 32801 / 49000) loss: 2.302871\n",
      "(Epoch 67 / 100) train acc: 0.164000; val_acc: 0.171000\n",
      "(Iteration 33001 / 49000) loss: 2.304257\n",
      "(Iteration 33201 / 49000) loss: 2.301321\n",
      "(Epoch 68 / 100) train acc: 0.188000; val_acc: 0.171000\n",
      "(Iteration 33401 / 49000) loss: 2.304908\n",
      "(Iteration 33601 / 49000) loss: 2.303564\n",
      "(Iteration 33801 / 49000) loss: 2.300274\n",
      "(Epoch 69 / 100) train acc: 0.188000; val_acc: 0.171000\n",
      "(Iteration 34001 / 49000) loss: 2.290975\n",
      "(Iteration 34201 / 49000) loss: 2.298194\n",
      "(Epoch 70 / 100) train acc: 0.197000; val_acc: 0.171000\n",
      "(Iteration 34401 / 49000) loss: 2.297409\n",
      "(Iteration 34601 / 49000) loss: 2.300316\n",
      "(Epoch 71 / 100) train acc: 0.178000; val_acc: 0.172000\n",
      "(Iteration 34801 / 49000) loss: 2.302372\n",
      "(Iteration 35001 / 49000) loss: 2.297511\n",
      "(Iteration 35201 / 49000) loss: 2.307695\n",
      "(Epoch 72 / 100) train acc: 0.176000; val_acc: 0.172000\n",
      "(Iteration 35401 / 49000) loss: 2.302003\n",
      "(Iteration 35601 / 49000) loss: 2.296602\n",
      "(Epoch 73 / 100) train acc: 0.174000; val_acc: 0.172000\n",
      "(Iteration 35801 / 49000) loss: 2.308340\n",
      "(Iteration 36001 / 49000) loss: 2.299867\n",
      "(Iteration 36201 / 49000) loss: 2.301163\n",
      "(Epoch 74 / 100) train acc: 0.184000; val_acc: 0.172000\n",
      "(Iteration 36401 / 49000) loss: 2.294573\n",
      "(Iteration 36601 / 49000) loss: 2.304338\n",
      "(Epoch 75 / 100) train acc: 0.162000; val_acc: 0.173000\n",
      "(Iteration 36801 / 49000) loss: 2.297515\n",
      "(Iteration 37001 / 49000) loss: 2.302159\n",
      "(Iteration 37201 / 49000) loss: 2.305442\n",
      "(Epoch 76 / 100) train acc: 0.164000; val_acc: 0.173000\n",
      "(Iteration 37401 / 49000) loss: 2.296370\n",
      "(Iteration 37601 / 49000) loss: 2.301144\n",
      "(Epoch 77 / 100) train acc: 0.167000; val_acc: 0.173000\n",
      "(Iteration 37801 / 49000) loss: 2.302687\n",
      "(Iteration 38001 / 49000) loss: 2.305102\n",
      "(Iteration 38201 / 49000) loss: 2.297517\n",
      "(Epoch 78 / 100) train acc: 0.190000; val_acc: 0.173000\n",
      "(Iteration 38401 / 49000) loss: 2.300926\n",
      "(Iteration 38601 / 49000) loss: 2.297198\n",
      "(Epoch 79 / 100) train acc: 0.195000; val_acc: 0.176000\n",
      "(Iteration 38801 / 49000) loss: 2.299280\n",
      "(Iteration 39001 / 49000) loss: 2.292056\n",
      "(Epoch 80 / 100) train acc: 0.185000; val_acc: 0.176000\n",
      "(Iteration 39201 / 49000) loss: 2.291128\n",
      "(Iteration 39401 / 49000) loss: 2.304313\n",
      "(Iteration 39601 / 49000) loss: 2.294641\n",
      "(Epoch 81 / 100) train acc: 0.156000; val_acc: 0.176000\n",
      "(Iteration 39801 / 49000) loss: 2.295941\n",
      "(Iteration 40001 / 49000) loss: 2.299130\n",
      "(Epoch 82 / 100) train acc: 0.186000; val_acc: 0.176000\n",
      "(Iteration 40201 / 49000) loss: 2.293915\n",
      "(Iteration 40401 / 49000) loss: 2.301318\n",
      "(Iteration 40601 / 49000) loss: 2.300986\n",
      "(Epoch 83 / 100) train acc: 0.163000; val_acc: 0.177000\n",
      "(Iteration 40801 / 49000) loss: 2.300610\n",
      "(Iteration 41001 / 49000) loss: 2.302723\n",
      "(Epoch 84 / 100) train acc: 0.167000; val_acc: 0.177000\n",
      "(Iteration 41201 / 49000) loss: 2.299186\n",
      "(Iteration 41401 / 49000) loss: 2.298654\n",
      "(Iteration 41601 / 49000) loss: 2.301048\n",
      "(Epoch 85 / 100) train acc: 0.162000; val_acc: 0.177000\n",
      "(Iteration 41801 / 49000) loss: 2.301568\n",
      "(Iteration 42001 / 49000) loss: 2.299052\n",
      "(Epoch 86 / 100) train acc: 0.158000; val_acc: 0.176000\n",
      "(Iteration 42201 / 49000) loss: 2.301692\n",
      "(Iteration 42401 / 49000) loss: 2.302143\n",
      "(Iteration 42601 / 49000) loss: 2.303685\n",
      "(Epoch 87 / 100) train acc: 0.174000; val_acc: 0.176000\n",
      "(Iteration 42801 / 49000) loss: 2.305114\n",
      "(Iteration 43001 / 49000) loss: 2.304377\n",
      "(Epoch 88 / 100) train acc: 0.167000; val_acc: 0.176000\n",
      "(Iteration 43201 / 49000) loss: 2.298756\n",
      "(Iteration 43401 / 49000) loss: 2.299583\n",
      "(Iteration 43601 / 49000) loss: 2.296401\n",
      "(Epoch 89 / 100) train acc: 0.164000; val_acc: 0.175000\n",
      "(Iteration 43801 / 49000) loss: 2.299269\n",
      "(Iteration 44001 / 49000) loss: 2.301491\n",
      "(Epoch 90 / 100) train acc: 0.174000; val_acc: 0.175000\n",
      "(Iteration 44201 / 49000) loss: 2.302425\n",
      "(Iteration 44401 / 49000) loss: 2.302494\n",
      "(Epoch 91 / 100) train acc: 0.188000; val_acc: 0.175000\n",
      "(Iteration 44601 / 49000) loss: 2.300305\n",
      "(Iteration 44801 / 49000) loss: 2.303918\n",
      "(Iteration 45001 / 49000) loss: 2.306014\n",
      "(Epoch 92 / 100) train acc: 0.190000; val_acc: 0.175000\n",
      "(Iteration 45201 / 49000) loss: 2.298835\n",
      "(Iteration 45401 / 49000) loss: 2.298185\n",
      "(Epoch 93 / 100) train acc: 0.173000; val_acc: 0.175000\n",
      "(Iteration 45601 / 49000) loss: 2.305659\n",
      "(Iteration 45801 / 49000) loss: 2.301657\n",
      "(Iteration 46001 / 49000) loss: 2.293548\n",
      "(Epoch 94 / 100) train acc: 0.176000; val_acc: 0.175000\n",
      "(Iteration 46201 / 49000) loss: 2.303005\n",
      "(Iteration 46401 / 49000) loss: 2.298040\n",
      "(Epoch 95 / 100) train acc: 0.175000; val_acc: 0.175000\n",
      "(Iteration 46601 / 49000) loss: 2.296896\n",
      "(Iteration 46801 / 49000) loss: 2.297319\n",
      "(Iteration 47001 / 49000) loss: 2.301565\n",
      "(Epoch 96 / 100) train acc: 0.184000; val_acc: 0.175000\n",
      "(Iteration 47201 / 49000) loss: 2.296894\n",
      "(Iteration 47401 / 49000) loss: 2.300318\n",
      "(Epoch 97 / 100) train acc: 0.178000; val_acc: 0.174000\n",
      "(Iteration 47601 / 49000) loss: 2.291391\n",
      "(Iteration 47801 / 49000) loss: 2.303090\n",
      "(Iteration 48001 / 49000) loss: 2.303361\n",
      "(Epoch 98 / 100) train acc: 0.195000; val_acc: 0.174000\n",
      "(Iteration 48201 / 49000) loss: 2.304799\n",
      "(Iteration 48401 / 49000) loss: 2.307793\n",
      "(Epoch 99 / 100) train acc: 0.172000; val_acc: 0.174000\n",
      "(Iteration 48601 / 49000) loss: 2.304238\n",
      "(Iteration 48801 / 49000) loss: 2.299464\n",
      "(Epoch 100 / 100) train acc: 0.145000; val_acc: 0.174000\n"
     ]
    }
   ],
   "source": [
    "model = TwoLayerNet()\n",
    "D = np.prod(data[\"X_train\"].shape[1:])\n",
    "N = data['X_train'].shape[0]\n",
    "C = 10\n",
    "\n",
    "H = 7\n",
    "\n",
    "std = 1e-3\n",
    "model = TwoLayerNet(input_dim=D, hidden_dim=H, num_classes=C, weight_scale=std, reg=1e2)\n",
    "solver = Solver(model, data, update_rule='sgd',\n",
    "                optim_config={'learning_rate': 4e-6,},\n",
    "                lr_decay=0.95,\n",
    "                num_epochs=100, batch_size=100,\n",
    "                print_every=200 )\n",
    "\n",
    "##############################################################################\n",
    "# TODO: Use a Solver instance to train a TwoLayerNet that achieves at least  #\n",
    "# 50% accuracy on the validation set.                                        #\n",
    "##############################################################################\n",
    "solver.train()\n",
    "##############################################################################\n",
    "#                             END OF YOUR CODE                               #\n",
    "##############################################################################"
   ]
  },
  {
   "cell_type": "code",
   "execution_count": 11,
   "metadata": {},
   "outputs": [
    {
     "data": {
      "image/png": "[encoded data removed]",
      "text/plain": [
       "<Figure size 1080x864 with 2 Axes>"
      ]
     },
     "metadata": {
      "needs_background": "light"
     },
     "output_type": "display_data"
    }
   ],
   "source": [
    "# Run this cell to visualize training loss and train / val accuracy\n",
    "\n",
    "plt.subplot(2, 1, 1)\n",
    "plt.title('Training loss')\n",
    "plt.plot(solver.loss_history, 'o')\n",
    "plt.xlabel('Iteration')\n",
    "\n",
    "plt.subplot(2, 1, 2)\n",
    "plt.title('Accuracy')\n",
    "plt.plot(solver.train_acc_history, '-o', label='train')\n",
    "plt.plot(solver.val_acc_history, '-o', label='val')\n",
    "plt.plot([0.5] * len(solver.val_acc_history), 'k--')\n",
    "plt.xlabel('Epoch')\n",
    "plt.legend(loc='lower right')\n",
    "plt.gcf().set_size_inches(15, 12)\n",
    "plt.show()"
   ]
  },
  {
   "cell_type": "markdown",
   "metadata": {},
   "source": [
    "# Multilayer network\n",
    "Next you will implement a fully-connected network with an arbitrary number of hidden layers.\n",
    "\n",
    "Read through the `FullyConnectedNet` class in the file `cs231n/classifiers/fc_net.py`.\n",
    "\n",
    "Implement the initialization, the forward pass, and the backward pass. For the moment don't worry about implementing dropout or batch/layer normalization; we will add those features soon."
   ]
  },
  {
   "cell_type": "markdown",
   "metadata": {},
   "source": [
    "## Initial loss and gradient check"
   ]
  },
  {
   "cell_type": "markdown",
   "metadata": {},
   "source": [
    "As a sanity check, run the following to check the initial loss and to gradient check the network both with and without regularization. Do the initial losses seem reasonable?\n",
    "\n",
    "For gradient checking, you should expect to see errors around 1e-7 or less."
   ]
  },
  {
   "cell_type": "code",
   "execution_count": 17,
   "metadata": {},
   "outputs": [
    {
     "name": "stdout",
     "output_type": "stream",
     "text": [
      "Running check with reg =  0\n",
      "Hidden dims:[20, 30]\n",
      "Initial loss:  2.3004790897684924\n",
      "W1 relative error: 1.48e-07\n",
      "W2 relative error: 2.21e-05\n",
      "W3 relative error: 3.53e-07\n",
      "b1 relative error: 5.38e-09\n",
      "b2 relative error: 2.09e-09\n",
      "b3 relative error: 5.80e-11\n",
      "Running check with reg =  3.14\n",
      "Hidden dims:[20, 30]\n",
      "Initial loss:  7.052114776533016\n",
      "W1 relative error: 3.90e-09\n",
      "W2 relative error: 6.87e-08\n",
      "W3 relative error: 2.13e-08\n",
      "b1 relative error: 1.48e-08\n",
      "b2 relative error: 1.72e-09\n",
      "b3 relative error: 1.57e-10\n"
     ]
    }
   ],
   "source": [
    "np.random.seed(231)\n",
    "N, D, H1, H2, C = 2, 15, 20, 30, 10\n",
    "X = np.random.randn(N, D)\n",
    "y = np.random.randint(C, size=(N,))\n",
    "\n",
    "for reg in [0, 3.14]:\n",
    "  print('Running check with reg = ', reg)\n",
    "  model = FullyConnectedNet([H1, H2], input_dim=D, num_classes=C,\n",
    "                            reg=reg, weight_scale=5e-2, dtype=np.float64)\n",
    "\n",
    "  loss, grads = model.loss(X, y)\n",
    "  print('Initial loss: ', loss)\n",
    "  \n",
    "  # Most of the errors should be on the order of e-7 or smaller.   \n",
    "  # NOTE: It is fine however to see an error for W2 on the order of e-5\n",
    "  # for the check when reg = 0.0\n",
    "  for name in sorted(grads):\n",
    "    f = lambda _: model.loss(X, y)[0]\n",
    "    grad_num = eval_numerical_gradient(f, model.params[name], verbose=False, h=1e-5)\n",
    "    print('%s relative error: %.2e' % (name, rel_error(grad_num, grads[name])))"
   ]
  },
  {
   "cell_type": "markdown",
   "metadata": {},
   "source": [
    "As another sanity check, make sure you can overfit a small dataset of 50 images. First we will try a three-layer network with 100 units in each hidden layer. In the following cell, tweak the learning rate and initialization scale to overfit and achieve 100% training accuracy within 20 epochs."
   ]
  },
  {
   "cell_type": "code",
   "execution_count": 29,
   "metadata": {
    "scrolled": false
   },
   "outputs": [
    {
     "name": "stdout",
     "output_type": "stream",
     "text": [
      "Hidden dims:[100, 100]\n",
      "(Iteration 1 / 40) loss: 2.302585\n",
      "(Epoch 0 / 20) train acc: 0.160000; val_acc: 0.079000\n",
      "(Epoch 1 / 20) train acc: 0.160000; val_acc: 0.079000\n",
      "(Epoch 2 / 20) train acc: 0.160000; val_acc: 0.079000\n",
      "(Epoch 3 / 20) train acc: 0.160000; val_acc: 0.079000\n",
      "(Epoch 4 / 20) train acc: 0.160000; val_acc: 0.079000\n",
      "(Epoch 5 / 20) train acc: 0.160000; val_acc: 0.079000\n",
      "(Iteration 11 / 40) loss: 2.300751\n",
      "(Epoch 6 / 20) train acc: 0.160000; val_acc: 0.079000\n",
      "(Epoch 7 / 20) train acc: 0.160000; val_acc: 0.079000\n",
      "(Epoch 8 / 20) train acc: 0.160000; val_acc: 0.079000\n",
      "(Epoch 9 / 20) train acc: 0.160000; val_acc: 0.079000\n",
      "(Epoch 10 / 20) train acc: 0.160000; val_acc: 0.079000\n",
      "(Iteration 21 / 40) loss: 2.300408\n",
      "(Epoch 11 / 20) train acc: 0.160000; val_acc: 0.079000\n",
      "(Epoch 12 / 20) train acc: 0.160000; val_acc: 0.079000\n",
      "(Epoch 13 / 20) train acc: 0.160000; val_acc: 0.079000\n",
      "(Epoch 14 / 20) train acc: 0.160000; val_acc: 0.079000\n",
      "(Epoch 15 / 20) train acc: 0.160000; val_acc: 0.079000\n",
      "(Iteration 31 / 40) loss: 2.297596\n",
      "(Epoch 16 / 20) train acc: 0.160000; val_acc: 0.079000\n",
      "(Epoch 17 / 20) train acc: 0.160000; val_acc: 0.079000\n",
      "(Epoch 18 / 20) train acc: 0.160000; val_acc: 0.079000\n",
      "(Epoch 19 / 20) train acc: 0.160000; val_acc: 0.079000\n",
      "(Epoch 20 / 20) train acc: 0.160000; val_acc: 0.079000\n"
     ]
    },
    {
     "data": {
      "image/png": "[encoded data removed]",
      "text/plain": [
       "<Figure size 432x288 with 1 Axes>"
      ]
     },
     "metadata": {
      "needs_background": "light"
     },
     "output_type": "display_data"
    }
   ],
   "source": [
    "# TODO: Use a three-layer Net to overfit 50 training examples by \n",
    "# tweaking just the learning rate and initialization scale.\n",
    "\n",
    "num_train = 50\n",
    "small_data = {\n",
    "  'X_train': data['X_train'][:num_train],\n",
    "  'y_train': data['y_train'][:num_train],\n",
    "  'X_val': data['X_val'],\n",
    "  'y_val': data['y_val'],\n",
    "}\n",
    "\n",
    "weight_scale = 1e-5\n",
    "learning_rate = 1e-2\n",
    "model = FullyConnectedNet([100, 100],\n",
    "              weight_scale=weight_scale, dtype=np.float64)\n",
    "solver = Solver(model, small_data,\n",
    "                print_every=10, num_epochs=20, batch_size=25,\n",
    "                update_rule='sgd',\n",
    "                optim_config={\n",
    "                  'learning_rate': learning_rate,\n",
    "                }\n",
    "         )\n",
    "solver.train()\n",
    "\n",
    "plt.plot(solver.loss_history, 'o')\n",
    "plt.title('Training loss history')\n",
    "plt.xlabel('Iteration')\n",
    "plt.ylabel('Training loss')\n",
    "plt.show()"
   ]
  },
  {
   "cell_type": "markdown",
   "metadata": {},
   "source": [
    "Now try to use a five-layer network with 100 units on each layer to overfit 50 training examples. Again you will have to adjust the learning rate and weight initialization, but you should be able to achieve 100% training accuracy within 20 epochs."
   ]
  },
  {
   "cell_type": "code",
   "execution_count": null,
   "metadata": {
    "collapsed": true
   },
   "outputs": [],
   "source": [
    "# TODO: Use a five-layer Net to overfit 50 training examples by \n",
    "# tweaking just the learning rate and initialization scale.\n",
    "\n",
    "num_train = 50\n",
    "small_data = {\n",
    "  'X_train': data['X_train'][:num_train],\n",
    "  'y_train': data['y_train'][:num_train],\n",
    "  'X_val': data['X_val'],\n",
    "  'y_val': data['y_val'],\n",
    "}\n",
    "\n",
    "learning_rate = 2e-3\n",
    "weight_scale = 1e-5\n",
    "model = FullyConnectedNet([100, 100, 100, 100],\n",
    "                weight_scale=weight_scale, dtype=np.float64)\n",
    "solver = Solver(model, small_data,\n",
    "                print_every=10, num_epochs=20, batch_size=25,\n",
    "                update_rule='sgd',\n",
    "                optim_config={\n",
    "                  'learning_rate': learning_rate,\n",
    "                }\n",
    "         )\n",
    "solver.train()\n",
    "\n",
    "plt.plot(solver.loss_history, 'o')\n",
    "plt.title('Training loss history')\n",
    "plt.xlabel('Iteration')\n",
    "plt.ylabel('Training loss')\n",
    "plt.show()"
   ]
  },
  {
   "cell_type": "markdown",
   "metadata": {},
   "source": [
    "## Inline Question 2: \n",
    "Did you notice anything about the comparative difficulty of training the three-layer net vs training the five layer net? In particular, based on your experience, which network seemed more sensitive to the initialization scale? Why do you think that is the case?"
   ]
  },
  {
   "cell_type": "markdown",
   "metadata": {},
   "source": [
    "## Answer:\n",
    "[FILL THIS IN]\n"
   ]
  },
  {
   "cell_type": "markdown",
   "metadata": {},
   "source": [
    "# Update rules\n",
    "So far we have used vanilla stochastic gradient descent (SGD) as our update rule. More sophisticated update rules can make it easier to train deep networks. We will implement a few of the most commonly used update rules and compare them to vanilla SGD."
   ]
  },
  {
   "cell_type": "markdown",
   "metadata": {},
   "source": [
    "# SGD+Momentum\n",
    "Stochastic gradient descent with momentum is a widely used update rule that tends to make deep networks converge faster than vanilla stochastic gradient descent. See the Momentum Update section at http://cs231n.github.io/neural-networks-3/#sgd for more information.\n",
    "\n",
    "Open the file `cs231n/optim.py` and read the documentation at the top of the file to make sure you understand the API. Implement the SGD+momentum update rule in the function `sgd_momentum` and run the following to check your implementation. You should see errors less than e-8."
   ]
  },
  {
   "cell_type": "code",
   "execution_count": null,
   "metadata": {
    "collapsed": true
   },
   "outputs": [],
   "source": [
    "from cs231n.optim import sgd_momentum\n",
    "\n",
    "N, D = 4, 5\n",
    "w = np.linspace(-0.4, 0.6, num=N*D).reshape(N, D)\n",
    "dw = np.linspace(-0.6, 0.4, num=N*D).reshape(N, D)\n",
    "v = np.linspace(0.6, 0.9, num=N*D).reshape(N, D)\n",
    "\n",
    "config = {'learning_rate': 1e-3, 'velocity': v}\n",
    "next_w, _ = sgd_momentum(w, dw, config=config)\n",
    "\n",
    "expected_next_w = np.asarray([\n",
    "  [ 0.1406,      0.20738947,  0.27417895,  0.34096842,  0.40775789],\n",
    "  [ 0.47454737,  0.54133684,  0.60812632,  0.67491579,  0.74170526],\n",
    "  [ 0.80849474,  0.87528421,  0.94207368,  1.00886316,  1.07565263],\n",
    "  [ 1.14244211,  1.20923158,  1.27602105,  1.34281053,  1.4096    ]])\n",
    "expected_velocity = np.asarray([\n",
    "  [ 0.5406,      0.55475789,  0.56891579, 0.58307368,  0.59723158],\n",
    "  [ 0.61138947,  0.62554737,  0.63970526,  0.65386316,  0.66802105],\n",
    "  [ 0.68217895,  0.69633684,  0.71049474,  0.72465263,  0.73881053],\n",
    "  [ 0.75296842,  0.76712632,  0.78128421,  0.79544211,  0.8096    ]])\n",
    "\n",
    "# Should see relative errors around e-8 or less\n",
    "print('next_w error: ', rel_error(next_w, expected_next_w))\n",
    "print('velocity error: ', rel_error(expected_velocity, config['velocity']))"
   ]
  },
  {
   "cell_type": "markdown",
   "metadata": {},
   "source": [
    "Once you have done so, run the following to train a six-layer network with both SGD and SGD+momentum. You should see the SGD+momentum update rule converge faster."
   ]
  },
  {
   "cell_type": "code",
   "execution_count": null,
   "metadata": {
    "collapsed": true,
    "scrolled": false
   },
   "outputs": [],
   "source": [
    "num_train = 4000\n",
    "small_data = {\n",
    "  'X_train': data['X_train'][:num_train],\n",
    "  'y_train': data['y_train'][:num_train],\n",
    "  'X_val': data['X_val'],\n",
    "  'y_val': data['y_val'],\n",
    "}\n",
    "\n",
    "solvers = {}\n",
    "\n",
    "for update_rule in ['sgd', 'sgd_momentum']:\n",
    "  print('running with ', update_rule)\n",
    "  model = FullyConnectedNet([100, 100, 100, 100, 100], weight_scale=5e-2)\n",
    "\n",
    "  solver = Solver(model, small_data,\n",
    "                  num_epochs=5, batch_size=100,\n",
    "                  update_rule=update_rule,\n",
    "                  optim_config={\n",
    "                    'learning_rate': 1e-2,\n",
    "                  },\n",
    "                  verbose=True)\n",
    "  solvers[update_rule] = solver\n",
    "  solver.train()\n",
    "  print()\n",
    "\n",
    "plt.subplot(3, 1, 1)\n",
    "plt.title('Training loss')\n",
    "plt.xlabel('Iteration')\n",
    "\n",
    "plt.subplot(3, 1, 2)\n",
    "plt.title('Training accuracy')\n",
    "plt.xlabel('Epoch')\n",
    "\n",
    "plt.subplot(3, 1, 3)\n",
    "plt.title('Validation accuracy')\n",
    "plt.xlabel('Epoch')\n",
    "\n",
    "for update_rule, solver in list(solvers.items()):\n",
    "  plt.subplot(3, 1, 1)\n",
    "  plt.plot(solver.loss_history, 'o', label=update_rule)\n",
    "  \n",
    "  plt.subplot(3, 1, 2)\n",
    "  plt.plot(solver.train_acc_history, '-o', label=update_rule)\n",
    "\n",
    "  plt.subplot(3, 1, 3)\n",
    "  plt.plot(solver.val_acc_history, '-o', label=update_rule)\n",
    "  \n",
    "for i in [1, 2, 3]:\n",
    "  plt.subplot(3, 1, i)\n",
    "  plt.legend(loc='upper center', ncol=4)\n",
    "plt.gcf().set_size_inches(15, 15)\n",
    "plt.show()"
   ]
  },
  {
   "cell_type": "markdown",
   "metadata": {},
   "source": [
    "# RMSProp and Adam\n",
    "RMSProp [1] and Adam [2] are update rules that set per-parameter learning rates by using a running average of the second moments of gradients.\n",
    "\n",
    "In the file `cs231n/optim.py`, implement the RMSProp update rule in the `rmsprop` function and implement the Adam update rule in the `adam` function, and check your implementations using the tests below.\n",
    "\n",
    "**NOTE:** Please implement the _complete_ Adam update rule (with the bias correction mechanism), not the first simplified version mentioned in the course notes. \n",
    "\n",
    "[1] Tijmen Tieleman and Geoffrey Hinton. \"Lecture 6.5-rmsprop: Divide the gradient by a running average of its recent magnitude.\" COURSERA: Neural Networks for Machine Learning 4 (2012).\n",
    "\n",
    "[2] Diederik Kingma and Jimmy Ba, \"Adam: A Method for Stochastic Optimization\", ICLR 2015."
   ]
  },
  {
   "cell_type": "code",
   "execution_count": null,
   "metadata": {
    "collapsed": true
   },
   "outputs": [],
   "source": [
    "# Test RMSProp implementation\n",
    "from cs231n.optim import rmsprop\n",
    "\n",
    "N, D = 4, 5\n",
    "w = np.linspace(-0.4, 0.6, num=N*D).reshape(N, D)\n",
    "dw = np.linspace(-0.6, 0.4, num=N*D).reshape(N, D)\n",
    "cache = np.linspace(0.6, 0.9, num=N*D).reshape(N, D)\n",
    "\n",
    "config = {'learning_rate': 1e-2, 'cache': cache}\n",
    "next_w, _ = rmsprop(w, dw, config=config)\n",
    "\n",
    "expected_next_w = np.asarray([\n",
    "  [-0.39223849, -0.34037513, -0.28849239, -0.23659121, -0.18467247],\n",
    "  [-0.132737,   -0.08078555, -0.02881884,  0.02316247,  0.07515774],\n",
    "  [ 0.12716641,  0.17918792,  0.23122175,  0.28326742,  0.33532447],\n",
    "  [ 0.38739248,  0.43947102,  0.49155973,  0.54365823,  0.59576619]])\n",
    "expected_cache = np.asarray([\n",
    "  [ 0.5976,      0.6126277,   0.6277108,   0.64284931,  0.65804321],\n",
    "  [ 0.67329252,  0.68859723,  0.70395734,  0.71937285,  0.73484377],\n",
    "  [ 0.75037008,  0.7659518,   0.78158892,  0.79728144,  0.81302936],\n",
    "  [ 0.82883269,  0.84469141,  0.86060554,  0.87657507,  0.8926    ]])\n",
    "\n",
    "# You should see relative errors around e-7 or less\n",
    "print('next_w error: ', rel_error(expected_next_w, next_w))\n",
    "print('cache error: ', rel_error(expected_cache, config['cache']))"
   ]
  },
  {
   "cell_type": "code",
   "execution_count": null,
   "metadata": {
    "collapsed": true
   },
   "outputs": [],
   "source": [
    "# Test Adam implementation\n",
    "from cs231n.optim import adam\n",
    "\n",
    "N, D = 4, 5\n",
    "w = np.linspace(-0.4, 0.6, num=N*D).reshape(N, D)\n",
    "dw = np.linspace(-0.6, 0.4, num=N*D).reshape(N, D)\n",
    "m = np.linspace(0.6, 0.9, num=N*D).reshape(N, D)\n",
    "v = np.linspace(0.7, 0.5, num=N*D).reshape(N, D)\n",
    "\n",
    "config = {'learning_rate': 1e-2, 'm': m, 'v': v, 't': 5}\n",
    "next_w, _ = adam(w, dw, config=config)\n",
    "\n",
    "expected_next_w = np.asarray([\n",
    "  [-0.40094747, -0.34836187, -0.29577703, -0.24319299, -0.19060977],\n",
    "  [-0.1380274,  -0.08544591, -0.03286534,  0.01971428,  0.0722929],\n",
    "  [ 0.1248705,   0.17744702,  0.23002243,  0.28259667,  0.33516969],\n",
    "  [ 0.38774145,  0.44031188,  0.49288093,  0.54544852,  0.59801459]])\n",
    "expected_v = np.asarray([\n",
    "  [ 0.69966,     0.68908382,  0.67851319,  0.66794809,  0.65738853,],\n",
    "  [ 0.64683452,  0.63628604,  0.6257431,   0.61520571,  0.60467385,],\n",
    "  [ 0.59414753,  0.58362676,  0.57311152,  0.56260183,  0.55209767,],\n",
    "  [ 0.54159906,  0.53110598,  0.52061845,  0.51013645,  0.49966,   ]])\n",
    "expected_m = np.asarray([\n",
    "  [ 0.48,        0.49947368,  0.51894737,  0.53842105,  0.55789474],\n",
    "  [ 0.57736842,  0.59684211,  0.61631579,  0.63578947,  0.65526316],\n",
    "  [ 0.67473684,  0.69421053,  0.71368421,  0.73315789,  0.75263158],\n",
    "  [ 0.77210526,  0.79157895,  0.81105263,  0.83052632,  0.85      ]])\n",
    "\n",
    "# You should see relative errors around e-7 or less\n",
    "print('next_w error: ', rel_error(expected_next_w, next_w))\n",
    "print('v error: ', rel_error(expected_v, config['v']))\n",
    "print('m error: ', rel_error(expected_m, config['m']))"
   ]
  },
  {
   "cell_type": "markdown",
   "metadata": {},
   "source": [
    "Once you have debugged your RMSProp and Adam implementations, run the following to train a pair of deep networks using these new update rules:"
   ]
  },
  {
   "cell_type": "code",
   "execution_count": null,
   "metadata": {
    "collapsed": true
   },
   "outputs": [],
   "source": [
    "learning_rates = {'rmsprop': 1e-4, 'adam': 1e-3}\n",
    "for update_rule in ['adam', 'rmsprop']:\n",
    "  print('running with ', update_rule)\n",
    "  model = FullyConnectedNet([100, 100, 100, 100, 100], weight_scale=5e-2)\n",
    "\n",
    "  solver = Solver(model, small_data,\n",
    "                  num_epochs=5, batch_size=100,\n",
    "                  update_rule=update_rule,\n",
    "                  optim_config={\n",
    "                    'learning_rate': learning_rates[update_rule]\n",
    "                  },\n",
    "                  verbose=True)\n",
    "  solvers[update_rule] = solver\n",
    "  solver.train()\n",
    "  print()\n",
    "\n",
    "plt.subplot(3, 1, 1)\n",
    "plt.title('Training loss')\n",
    "plt.xlabel('Iteration')\n",
    "\n",
    "plt.subplot(3, 1, 2)\n",
    "plt.title('Training accuracy')\n",
    "plt.xlabel('Epoch')\n",
    "\n",
    "plt.subplot(3, 1, 3)\n",
    "plt.title('Validation accuracy')\n",
    "plt.xlabel('Epoch')\n",
    "\n",
    "for update_rule, solver in list(solvers.items()):\n",
    "  plt.subplot(3, 1, 1)\n",
    "  plt.plot(solver.loss_history, 'o', label=update_rule)\n",
    "  \n",
    "  plt.subplot(3, 1, 2)\n",
    "  plt.plot(solver.train_acc_history, '-o', label=update_rule)\n",
    "\n",
    "  plt.subplot(3, 1, 3)\n",
    "  plt.plot(solver.val_acc_history, '-o', label=update_rule)\n",
    "  \n",
    "for i in [1, 2, 3]:\n",
    "  plt.subplot(3, 1, i)\n",
    "  plt.legend(loc='upper center', ncol=4)\n",
    "plt.gcf().set_size_inches(15, 15)\n",
    "plt.show()"
   ]
  },
  {
   "cell_type": "markdown",
   "metadata": {},
   "source": [
    "## Inline Question 3:\n",
    "\n",
    "AdaGrad, like Adam, is a per-parameter optimization method that uses the following update rule:\n",
    "\n",
    "```\n",
    "cache += dw**2\n",
    "w += - learning_rate * dw / (np.sqrt(cache) + eps)\n",
    "```\n",
    "\n",
    "John notices that when he was training a network with AdaGrad that the updates became very small, and that his network was learning slowly. Using your knowledge of the AdaGrad update rule, why do you think the updates would become very small? Would Adam have the same issue?\n"
   ]
  },
  {
   "cell_type": "markdown",
   "metadata": {},
   "source": [
    "## Answer: \n"
   ]
  },
  {
   "cell_type": "markdown",
   "metadata": {},
   "source": [
    "# Train a good model!\n",
    "Train the best fully-connected model that you can on CIFAR-10, storing your best model in the `best_model` variable. We require you to get at least 50% accuracy on the validation set using a fully-connected net.\n",
    "\n",
    "If you are careful it should be possible to get accuracies above 55%, but we don't require it for this part and won't assign extra credit for doing so. Later in the assignment we will ask you to train the best convolutional network that you can on CIFAR-10, and we would prefer that you spend your effort working on convolutional nets rather than fully-connected nets.\n",
    "\n",
    "You might find it useful to complete the `BatchNormalization.ipynb` and `Dropout.ipynb` notebooks before completing this part, since those techniques can help you train powerful models."
   ]
  },
  {
   "cell_type": "code",
   "execution_count": null,
   "metadata": {
    "collapsed": true,
    "scrolled": false
   },
   "outputs": [],
   "source": [
    "best_model = None\n",
    "################################################################################\n",
    "# TODO: Train the best FullyConnectedNet that you can on CIFAR-10. You might   #\n",
    "# find batch/layer normalization and dropout useful. Store your best model in  #\n",
    "# the best_model variable.                                                     #\n",
    "################################################################################\n",
    "pass\n",
    "################################################################################\n",
    "#                              END OF YOUR CODE                                #\n",
    "################################################################################"
   ]
  },
  {
   "cell_type": "markdown",
   "metadata": {},
   "source": [
    "# Test your model!\n",
    "Run your best model on the validation and test sets. You should achieve above 50% accuracy on the validation set."
   ]
  },
  {
   "cell_type": "code",
   "execution_count": null,
   "metadata": {
    "collapsed": true
   },
   "outputs": [],
   "source": [
    "y_test_pred = np.argmax(best_model.loss(data['X_test']), axis=1)\n",
    "y_val_pred = np.argmax(best_model.loss(data['X_val']), axis=1)\n",
    "print('Validation set accuracy: ', (y_val_pred == data['y_val']).mean())\n",
    "print('Test set accuracy: ', (y_test_pred == data['y_test']).mean())"
   ]
  }
 ],
 "metadata": {
  "kernelspec": {
   "display_name": "Python 3",
   "language": "python",
   "name": "python3"
  },
  "language_info": {
   "codemirror_mode": {
    "name": "ipython",
    "version": 3
   },
   "file_extension": ".py",
   "mimetype": "text/x-python",
   "name": "python",
   "nbconvert_exporter": "python",
   "pygments_lexer": "ipython3",
   "version": "3.6.7"
  }
 },
 "nbformat": 4,
 "nbformat_minor": 2
}
